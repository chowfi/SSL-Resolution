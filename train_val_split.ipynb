{
 "cells": [
  {
   "cell_type": "code",
   "execution_count": 11,
   "metadata": {},
   "outputs": [],
   "source": [
    "import pandas as pd\n",
    "from sklearn.model_selection import train_test_split\n",
    "\n",
    "\"\"\"\n",
    "\n",
    "Train/Val (80/20) split for training data. i.e. Overall split for train/val/test is 64/16/20\n",
    "This script should not need to run again. The files will be shared w the group on NYU HPC.\n",
    "\n",
    "\"\"\"\n",
    "\n",
    "# Load the data\n",
    "X = pd.read_csv(\"/Users/fionachow/Downloads/data/X_train_sat6.csv\", header=None)\n",
    "y = pd.read_csv(\"/Users/fionachow/Downloads/data/y_train_sat6.csv\", header=None)\n",
    "\n",
    "# Check the shape to ensure they match in terms of rows\n",
    "assert X.shape[0] == y.shape[0], \"Mismatch in number of rows between X and y.\"\n",
    "\n",
    "# Concatenate X and y horizontally\n",
    "data = pd.concat([X, y], axis=1)\n",
    "\n",
    "# Split into training and validation sets (80% train, 20% validation)\n",
    "train_data, val_data = train_test_split(data, test_size=0.2, random_state=99)\n",
    "\n",
    "# Separate X and y for both training and validation sets\n",
    "X_train = train_data.iloc[:, :X.shape[1]]\n",
    "y_train = train_data.iloc[:, X.shape[1]:]\n",
    "\n",
    "X_val = val_data.iloc[:, :X.shape[1]]\n",
    "y_val = val_data.iloc[:, X.shape[1]:]\n",
    "\n",
    "# Save the split data into separate files\n",
    "X_train.to_csv(\"/Users/fionachow/Downloads/data/X_train_split.csv\", index=False)\n",
    "y_train.to_csv(\"/Users/fionachow/Downloads/data/y_train_split.csv\", index=False)\n",
    "\n",
    "X_val.to_csv(\"/Users/fionachow/Downloads/data/X_val_split.csv\", index=False)\n",
    "y_val.to_csv(\"/Users/fionachow/Downloads/data/y_val_split.csv\", index=False)\n"
   ]
  }
 ],
 "metadata": {
  "kernelspec": {
   "display_name": "bloom",
   "language": "python",
   "name": "python3"
  },
  "language_info": {
   "codemirror_mode": {
    "name": "ipython",
    "version": 3
   },
   "file_extension": ".py",
   "mimetype": "text/x-python",
   "name": "python",
   "nbconvert_exporter": "python",
   "pygments_lexer": "ipython3",
   "version": "3.9.16"
  },
  "orig_nbformat": 4
 },
 "nbformat": 4,
 "nbformat_minor": 2
}
